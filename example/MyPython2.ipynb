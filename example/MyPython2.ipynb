{
 "cells": [
  {
   "cell_type": "code",
   "execution_count": null,
   "id": "c7b71528",
   "metadata": {},
   "outputs": [],
   "source": [
    "## \n",
    "##%overwritefile\n",
    "##%file:src1/test.py\n",
    "##%stdout->:myfifo\n",
    "## %cleartest\n",
    "print(\"这是输入的名字8\")\n",
    "##test_begin\n",
    "print(\"------测试代码------\\n\")\n",
    "##test_end"
   ]
  },
  {
   "cell_type": "code",
   "execution_count": null,
   "id": "ecc47023",
   "metadata": {},
   "outputs": [],
   "source": [
    "## 测试\n",
    "##%overwritefile\n",
    "##%file:src1/test3.py\n",
    "##%smafterexec:myfifo R\n",
    "##%smafterexec:myfifo R\n",
    "##%smafterexec:myfifo R\n",
    "##%smafterexec:myfifo R\n",
    "##%smafterexec:myfifo R\n",
    "##%smafterexec:myfifo R\n",
    "##%log:0\n",
    "##%cleartest\n",
    "## %kcmd:list\n",
    "# i=0\n",
    "# while i<100:\n",
    "print(\"这是输入的名字\")\n",
    "    # i+=1\n",
    "\n",
    "##test_begin\n",
    "print(\"------测试代码------\\n\")\n",
    "##test_end"
   ]
  },
  {
   "cell_type": "code",
   "execution_count": null,
   "id": "5501d21a",
   "metadata": {},
   "outputs": [],
   "source": [
    "\n",
    "import mmap\n",
    "import contextlib\n",
    "import time\n",
    "import random\n",
    "\n",
    "flag=b''\n",
    "j=0\n",
    "for i in range(1, 20):\n",
    "  with contextlib.closing(mmap.mmap(-1, 4096, tagname='myfifo', access=mmap.ACCESS_DEFAULT)) as m:\n",
    "    # for i in range(1, 20):\n",
    "      ## 检查 4095\n",
    "      m.seek(0)\n",
    "      flag=m.read(1)\n",
    "      if flag!=b'\\x00':\n",
    "        # print(\"wait...{0}\".format(flag))\n",
    "        time.sleep(1/1000)\n",
    "        continue\n",
    "      m.seek(1)\n",
    "      m.write((\"this is test{0}.\\n\".format(j)).encode())\n",
    "      m.flush()\n",
    "      j+=1\n",
    "      ## 置flag=1\n",
    "      m.seek(0)\n",
    "      m.write(b'\\x01')\n",
    "      m.flush()\n",
    "      time.sleep(1/1000)"
   ]
  },
  {
   "cell_type": "code",
   "execution_count": null,
   "id": "167186d2",
   "metadata": {},
   "outputs": [],
   "source": [
    "##%overwritefile\n",
    "##%file:src1/test2.py\n",
    "import multiprocessing\n",
    "import os\n",
    "import time\n",
    "import random\n",
    "def main2():\n",
    "  # 1. 创建一个队列 (先进先出)\n",
    "  q = multiprocessing.Queue(10) # 最多放10个数据。 如果不指定长度,默认最大(和硬件相关)\n",
    "  # 2. 创建多个进程，将队列的引用当做实参进行传递\n",
    "  p2 = multiprocessing.Process(target=_write, args=(q,))\n",
    "  p2.start()\n",
    "\n",
    "# 写数据进程执行的代码:\n",
    "def _write(q):\n",
    "    print('Process(%s) is writing...' % os.getpid())\n",
    "    urls=[\"1\",\"2\",\"3\",\"4\",\"5\",\"6\",\"7\",\"8\",\"9\",\"0\",]\n",
    "    for url in urls:\n",
    "        q.put(url)\n",
    "        print('Put %s to queue...' % url)\n",
    "        time.sleep(random.random())\n",
    "if __name__ == \"__main__\":\n",
    "    # multiprocessing.freeze_support()\n",
    "    main2() \n",
    "# main2()    "
   ]
  },
  {
   "cell_type": "code",
   "execution_count": null,
   "id": "da340230",
   "metadata": {},
   "outputs": [],
   "source": [
    "import mmap\n",
    "import contextlib\n",
    "import time\n",
    "import atexit\n",
    "import platform\n",
    "import tempfile\n",
    "import os\n",
    "from queue import Queue\n",
    "\n",
    "fcntl = None\n",
    "msvcrt = None\n",
    "bLinux = True\n",
    "if platform.system() != 'Windows':\n",
    "    fcntl = __import__(\"fcntl\")\n",
    "    bLinux = True\n",
    "else:\n",
    "    msvcrt = __import__('msvcrt')\n",
    "    bLinux = False\n",
    "##\n",
    "##\n",
    "##\n",
    "class CFileLock:\n",
    "    def __init__(self, filename):\n",
    "        # self.kobj=kobj\n",
    "        # self.tmpdir = tempfile.TemporaryDirectory()\n",
    "        self.tmpdir =tempfile.gettempdir()\n",
    "        fname=filename+ '.lock'\n",
    "        fname = os.path.join(self.tmpdir, fname)\n",
    "        self.filename = fname\n",
    "        self.file = None\n",
    "    def __del__(self):\n",
    "        pass\n",
    "        # if os.path.exists(self.filename):\n",
    "            # os.remove(self.filename)\n",
    "        # self.tmpdir.cleanup()\n",
    "    def lock(self):\n",
    "        if bLinux is True:\n",
    "            self.file = open(self.filename, 'wb')\n",
    "            try:\n",
    "                fcntl.flock(self.file, fcntl.LOCK_EX | fcntl.LOCK_NB)\n",
    "            except:\n",
    "                return False\n",
    "        else:\n",
    "            self.file = open(self.filename, 'wb')\n",
    "            try:\n",
    "                msvcrt.locking(self.file.fileno(), msvcrt.LK_LOCK, 1)\n",
    "            except Exception as e:\n",
    "                return False\n",
    "        return True\n",
    " \n",
    "    def unlock(self):\n",
    "        try:\n",
    "            if bLinux is True:\n",
    "                fcntl.flock(self.file, fcntl.LOCK_UN)\n",
    "                self.file.close()\n",
    "            else:\n",
    "                self.file.seek(0)\n",
    "                msvcrt.locking(self.file.fileno(), msvcrt.LK_UNLCK, 1)\n",
    "        except Exception as e:\n",
    "            pass\n",
    "def read_all_from_queue(queue):\n",
    "    res = b''\n",
    "    size = queue.qsize()\n",
    "    while size != 0:\n",
    "        res += queue.get_nowait()\n",
    "        size -= 1\n",
    "    return res\n",
    "i=0\n",
    "flock=CFileLock('myfifo')\n",
    "_queue = Queue()\n",
    "\n",
    "while i<1500:\n",
    "# while True:\n",
    "#   if flock.lock():\n",
    "    s=b''\n",
    "    flag=b''\n",
    "    with contextlib.closing(mmap.mmap(-1, 4096, tagname='myfifo', access=mmap.ACCESS_DEFAULT)) as m:\n",
    "        m.seek(0)\n",
    "        flag=m.read(1)\n",
    "        ## 检查flag是否为1，1为可读\n",
    "        if flag!=b'\\x01':\n",
    "            # print(\"wait...\")\n",
    "            time.sleep(1/1000)\n",
    "            continue\n",
    "        m.seek(0)\n",
    "        m.write(b'\\x02')\n",
    "        m.flush()\n",
    "        m.seek(1)\n",
    "        s = m.read()\n",
    "        m.seek(0)\n",
    "        m.write(b'\\x00'*4096)\n",
    "        m.flush()\n",
    "        i+=1\n",
    "        time.sleep(1/1000)\n",
    "    s1=s.decode('UTF-8', errors='ignore').strip(b'\\x00'.decode())\n",
    "    if len(s1)>0:\n",
    "        print(s1.strip()+str(i))\n",
    "#   flock.unlock()\n",
    "    time.sleep(1/1000)\n",
    "#   _contents = read_all_from_queue(_queue)\n",
    "#   s1=_contents.decode('UTF-8', errors='ignore').strip(b'\\x00'.decode())\n",
    "#   if len(s1)>0:\n",
    "#     print(s1.strip())\n"
   ]
  },
  {
   "cell_type": "code",
   "execution_count": 4,
   "id": "b0142b90",
   "metadata": {},
   "outputs": [
    {
     "name": "stdout",
     "output_type": "stream",
     "text": [
      "[MyPythonKernel092832] Info:The process :h:\\Jupyter\\ipynb\\MyPython\\tmpcz9fec59.py\n",
      "[MyPythonKernel092832] Info:python3 h:\\Jupyter\\ipynb\\MyPython\\tmpcz9fec59.py \n"
     ]
    },
    {
     "data": {
      "text/plain": [
       "代码结束后由 srmafterexec 发送rpcstdin 消息\r\n"
      ]
     },
     "metadata": {
      "text/plain": {}
     },
     "output_type": "display_data"
    },
    {
     "name": "stdout",
     "output_type": "stream",
     "text": [
      "[MyPythonKernel092832] Info:The process end:2312\n"
     ]
    }
   ],
   "source": [
    "## %sendrpcmsg:tcp://127.0.0.1:4252  stopsrv\n",
    "## %sendrpcmsg:tcp://127.0.0.1:4252  stopsrv\n",
    "##%srmafterexec:tcp://127.0.0.1:4255 中文消息\\\\n\n",
    "print(\"代码结束后由 srmafterexec 发送rpcstdin 消息\")"
   ]
  },
  {
   "cell_type": "code",
   "execution_count": null,
   "id": "1eab864e",
   "metadata": {},
   "outputs": [],
   "source": [
    "##%onlyruncmd\n",
    "##%sendrpcmsg:tcp://127.0.0.1:4252  stopsrv"
   ]
  },
  {
   "cell_type": "code",
   "execution_count": null,
   "id": "1dac85e5",
   "metadata": {},
   "outputs": [],
   "source": [
    "import zerorpc\n",
    "\n",
    "c = zerorpc.Client()\n",
    "c.connect(\"ipc:///tmp/feeds/0\")\n",
    "print(c.hello(\"RPC\"))"
   ]
  },
  {
   "cell_type": "code",
   "execution_count": null,
   "id": "7c40fab0",
   "metadata": {},
   "outputs": [],
   "source": [
    "print(\"这是关联文件代码的执行结果。😊\")"
   ]
  }
 ],
 "metadata": {
  "interpreter": {
   "hash": "38bff49347d1e315ffe4e438ca69c956c90694fd6c920dd305da3d1e99520bc7"
  },
  "kernelspec": {
   "display_name": "MyPython",
   "language": "Python",
   "name": "mypython"
  },
  "widgets": {
   "application/vnd.jupyter.widget-state+json": {
    "state": {},
    "version_major": 2,
    "version_minor": 0
   }
  }
 },
 "nbformat": 4,
 "nbformat_minor": 5
}
