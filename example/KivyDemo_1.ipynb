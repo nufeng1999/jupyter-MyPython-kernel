{
 "cells": [
  {
   "cell_type": "code",
   "execution_count": null,
   "id": "b2509c4a",
   "metadata": {},
   "outputs": [],
   "source": [
    "##%overwritefile\n",
    "##%file:src_demo/1/1_the_lab_layout.py\n",
    "## %noruncode\n",
    "from kivy.app import App\n",
    "from kivy.metrics import dp\n",
    "from kivy.uix.anchorlayout import AnchorLayout\n",
    "from kivy.uix.boxlayout import BoxLayout\n",
    "from kivy.uix.button import Button\n",
    "from kivy.uix.gridlayout import GridLayout\n",
    "from kivy.uix.stacklayout import StackLayout\n",
    "from kivy.uix.widget import Widget\n",
    "from kivy import resources\n",
    "\n",
    "class StackLayoutExample(StackLayout):\n",
    "    def __init__(self, **kwargs):\n",
    "        super().__init__(**kwargs)\n",
    "        # self.orientation = \"lr-bt\"\n",
    "        for i in range(0, 100):\n",
    "            #size = dp(100) + i*10\n",
    "            size = dp(100)\n",
    "            b = Button(text=str(i+1), size_hint=(None, None), size=(size, size))\n",
    "            self.add_widget(b)\n",
    "\n",
    "#class GridLayoutExample(GridLayout):\n",
    "#    pass\n",
    "class AnchorLayoutExample(AnchorLayout):\n",
    "    pass\n",
    "\n",
    "\n",
    "class BoxLayoutExample(BoxLayout):\n",
    "    pass\n",
    "\"\"\"    def __init__(self, **kwargs):\n",
    "        super().__init__(**kwargs)\n",
    "        self.orientation = \"vertical\"\n",
    "        b1 = Button(text=\"A\")\n",
    "        b2 = Button(text=\"B\")\n",
    "        b3 = Button(text=\"C\")\n",
    "\n",
    "        self.add_widget(b1)\n",
    "        self.add_widget(b2)\n",
    "        self.add_widget(b3)\n",
    "\"\"\"\n",
    "\n",
    "\n",
    "class MainWidget(Widget):\n",
    "    pass\n",
    "\n",
    "\n",
    "class TheLabApp(App):\n",
    "    pass\n",
    "\n",
    "resources.resource_add_path(\"C:\\windows\\Fonts\")\n",
    "TheLabApp().run()\n"
   ]
  },
  {
   "cell_type": "code",
   "execution_count": null,
   "id": "f340bdb8",
   "metadata": {},
   "outputs": [],
   "source": []
  }
 ],
 "metadata": {
  "interpreter": {
   "hash": "38bff49347d1e315ffe4e438ca69c956c90694fd6c920dd305da3d1e99520bc7"
  },
  "kernelspec": {
   "display_name": "MyPython",
   "language": "Python",
   "name": "mypython"
  },
  "widgets": {
   "application/vnd.jupyter.widget-state+json": {
    "state": {},
    "version_major": 2,
    "version_minor": 0
   }
  }
 },
 "nbformat": 4,
 "nbformat_minor": 5
}
