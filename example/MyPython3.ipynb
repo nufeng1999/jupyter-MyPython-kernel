{
 "cells": [
  {
   "cell_type": "code",
   "execution_count": null,
   "metadata": {},
   "outputs": [],
   "source": [
    "#%define M1 print(\"这是我的宏替换测试\")\n",
    "##%log:0\n",
    "#%define TEST\n",
    "#%if defined TEST:\n",
    "print(\"this is test code.\")\n",
    "#%else:\n",
    "print(\"------------------.\")\n",
    "print(\"------------------.\")\n",
    "print(\"------------------.\")\n",
    "print(\"------------------.\")\n",
    "print(\"------------------.\")\n",
    "print(\"------------------.\")\n",
    "M1"
   ]
  },
  {
   "cell_type": "code",
   "execution_count": null,
   "metadata": {},
   "outputs": [],
   "source": [
    "import os\n",
    "import sys\n",
    "# %cd \"h:\\Jupyter\\ipynb\\MyPython\"\n",
    "if os.getcwd() not in sys.path:\n",
    "\tsys.path"
   ]
  },
  {
   "cell_type": "code",
   "execution_count": 8,
   "metadata": {},
   "outputs": [
    {
     "name": "stdout",
     "output_type": "stream",
     "text": [
      "[MyPythonKernel211332] Info:file h:\\Jupyter\\jupyter-MyPython-kernel\\example\\src/test1.py created successfully\n",
      "[MyPythonKernel211332] Info:The process :h:\\Jupyter\\jupyter-MyPython-kernel\\example\\src/test1.py\n",
      "[MyPythonKernel211332] Info:python3 h:\\Jupyter\\jupyter-MyPython-kernel\\example\\src/test1.py \n"
     ]
    },
    {
     "data": {
      "text/plain": [
       "脚本文件测试\r\n"
      ]
     },
     "metadata": {
      "text/plain": {}
     },
     "output_type": "display_data"
    },
    {
     "name": "stdout",
     "output_type": "stream",
     "text": [
      "[MyPythonKernel211332] Info:The process end:1152\n"
     ]
    }
   ],
   "source": [
    "##%overwritefile\n",
    "##%file:src/test1.py\n",
    "# this:::(\n",
    "_include:src/test.sh\n",
    "        \n",
    "        #yyyyyyyyyyyyyy"
   ]
  },
  {
   "cell_type": "code",
   "execution_count": null,
   "metadata": {},
   "outputs": [],
   "source": []
  }
 ],
 "metadata": {
  "kernelspec": {
   "display_name": "MyPython",
   "language": "Python",
   "name": "mypython"
  },
  "language_info": {
   "codemirror_mode": {
    "name": "ipython",
    "version": 3
   },
   "file_extension": ".py",
   "mimetype": "text/x-python",
   "name": "python",
   "nbconvert_exporter": "python",
   "pygments_lexer": "ipython3",
   "version": "3.9.6"
  },
  "orig_nbformat": 4
 },
 "nbformat": 4,
 "nbformat_minor": 2
}
