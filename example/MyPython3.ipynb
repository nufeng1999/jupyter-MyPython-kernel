{
 "cells": [
  {
   "cell_type": "code",
   "execution_count": 4,
   "metadata": {},
   "outputs": [
    {
     "data": {
      "text/plain": [
       "this is test code.\r\n"
      ]
     },
     "metadata": {
      "text/plain": {}
     },
     "output_type": "display_data"
    }
   ],
   "source": [
    "#%define M1 print(\"这是我的宏替换测试\")\n",
    "##%log:0\n",
    "#%define TEST\n",
    "#%if defined TEST:\n",
    "print(\"this is test code.\")\n",
    "#%else:\n",
    "print(\"------------------.\")\n",
    "print(\"------------------.\")\n",
    "print(\"------------------.\")\n",
    "print(\"------------------.\")\n",
    "print(\"------------------.\")\n",
    "print(\"------------------.\")\n",
    "M1"
   ]
  },
  {
   "cell_type": "code",
   "execution_count": null,
   "metadata": {},
   "outputs": [],
   "source": [
    "import os\n",
    "import sys\n",
    "# %cd \"h:\\Jupyter\\ipynb\\MyPython\"\n",
    "if os.getcwd() not in sys.path:\n",
    "\tsys.path"
   ]
  }
 ],
 "metadata": {
  "kernelspec": {
   "display_name": "MyPython",
   "language": "Python",
   "name": "mypython"
  },
  "language_info": {
   "codemirror_mode": {
    "name": "ipython",
    "version": 3
   },
   "file_extension": ".py",
   "mimetype": "text/x-python",
   "name": "python",
   "nbconvert_exporter": "python",
   "pygments_lexer": "ipython3",
   "version": "3.9.6"
  },
  "orig_nbformat": 4
 },
 "nbformat": 4,
 "nbformat_minor": 2
}
