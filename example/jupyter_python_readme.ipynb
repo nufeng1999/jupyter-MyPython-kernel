{
 "cells": [
  {
   "cell_type": "code",
   "execution_count": null,
   "metadata": {},
   "outputs": [],
   "source": [
    "##%overwritefile\n",
    "##%file:test/test1.py\n",
    "##//%noruncode\n",
    "##%showpid\n",
    "##//%kcmd:list\n",
    "print(\"---------\\n\")\n",
    "\n",
    "class A():\n",
    "    def __init__(self, *args, **kwargs):\n",
    "        # super(CKernel, self).__init__(*args, **kwargs)\n",
    "        self.__normal_ret='the test in a'\n",
    "    def test2(self):\n",
    "        return self.__normal_ret\n",
    "    def test3(self):\n",
    "        return self.test2()\n",
    "        \n",
    "    def test1(self):\n",
    "        print(self.__normal_ret)\n",
    "        print(\"the test in a\")\n",
    "    def calltest(self):\n",
    "        self.test()\n",
    "class B(A):\n",
    "    def __init__(self, *args, **kwargs):\n",
    "        super(B, self).__init__(*args, **kwargs)\n",
    "        self.__normal_ret='the test in b'\n",
    "\n",
    "    def test(self):\n",
    "        print(\"the test in b\")\n",
    "        print(self.test3())\n",
    "b=B()\n",
    "b.test()\n",
    "# b.calltest()"
   ]
  },
  {
   "cell_type": "code",
   "execution_count": null,
   "id": "97700599",
   "metadata": {},
   "outputs": [],
   "source": [
    "##%define:M1 line2='this define\\'s test by {{name}}'\n",
    "\n",
    "##$M1 name=000  uu=test\n",
    "print(line2+\"\\n\")\n",
    "##jj2_begin: name=ll3   uu=test\n",
    "line3='this define\\'s test by {{name}} ---{{uu}}'\n",
    "print(line3+\"\\n\")\n",
    "##jj2_end\n"
   ]
  },
  {
   "cell_type": "code",
   "execution_count": null,
   "id": "5130014f",
   "metadata": {},
   "outputs": [],
   "source": [
    "##//%outputtype:text/html\n",
    "##%runprg:bash \n",
    "##%runprgargs:test.sh\n",
    "##%overwritefile\n",
    "##%file:test.sh\n",
    "echo \"脚本文件测试\"\n",
    "ls\n",
    "\n"
   ]
  },
  {
   "cell_type": "code",
   "execution_count": 4,
   "id": "93f5ab6c",
   "metadata": {},
   "outputs": [
    {
     "data": {
      "text/plain": [
       "[MyPython] Info:The process :/root/Jupyter/jupyter-MyPython-kernel/example/tmp8d96mosq.py\n"
      ]
     },
     "metadata": {
      "text/plain": {}
     },
     "output_type": "display_data"
    },
    {
     "data": {
      "text/plain": [
       "The process end:6762\n"
      ]
     },
     "metadata": {
      "text/plain": {}
     },
     "output_type": "display_data"
    }
   ],
   "source": [
    "import gi\n",
    "gi.require_version(\"Gtk\", \"4.0\")\n",
    "# import gi\n",
    "# gi.require_version('Gtk', '3.0')\n",
    "from gi.repository import Gtk\n",
    "\n",
    "def on_activate(app):\n",
    "    win = Gtk.ApplicationWindow(application=app)\n",
    "    btn = Gtk.Button(label=\"Hello, World!\")\n",
    "    btn.connect('clicked', lambda x: win.close())\n",
    "    win.set_child(btn)\n",
    "    win.present()\n",
    "\n",
    "app = Gtk.Application(application_id='org.gtk.Example')\n",
    "app.connect('activate', on_activate)\n",
    "app.run(None)"
   ]
  },
  {
   "cell_type": "code",
   "execution_count": 10,
   "id": "e4fbdacb",
   "metadata": {},
   "outputs": [
    {
     "data": {
      "text/plain": [
       "[MyPython] Info:The process :/root/Jupyter/jupyter-MyPython-kernel/example/tmptostut1h.py\n"
      ]
     },
     "metadata": {
      "text/plain": {}
     },
     "output_type": "display_data"
    },
    {
     "data": {
      "text/plain": [
       "The process end:7361\n"
      ]
     },
     "metadata": {
      "text/plain": {}
     },
     "output_type": "display_data"
    }
   ],
   "source": [
    "import threading\n",
    "import time\n",
    "\n",
    "import gi\n",
    "gi.require_version(\"Gtk\", \"3.0\")\n",
    "from gi.repository import GLib, Gtk, GObject\n",
    "\n",
    "def app_main():\n",
    "    win = Gtk.Window(default_height=50, default_width=300)\n",
    "    win.connect(\"destroy\", Gtk.main_quit)\n",
    "\n",
    "    progress = Gtk.ProgressBar(show_text=True)\n",
    "    win.add(progress)\n",
    "\n",
    "    def update_progess(i):\n",
    "        progress.pulse()\n",
    "        progress.set_text(str(i))\n",
    "        return False\n",
    "\n",
    "    def example_target():\n",
    "        for i in range(50):\n",
    "            GLib.idle_add(update_progess, i)\n",
    "            time.sleep(0.2)\n",
    "\n",
    "    win.show_all()\n",
    "\n",
    "    thread = threading.Thread(target=example_target)\n",
    "    thread.daemon = True\n",
    "    thread.start()\n",
    "\n",
    "\n",
    "if __name__ == \"__main__\":\n",
    "    app_main()\n",
    "    Gtk.main()"
   ]
  },
  {
   "cell_type": "code",
   "execution_count": 12,
   "id": "b2648199",
   "metadata": {},
   "outputs": [
    {
     "data": {
      "text/plain": [
       "[MyPython] Info:The process :/root/Jupyter/jupyter-MyPython-kernel/example/tmpkzkz4bx4.py\n"
      ]
     },
     "metadata": {
      "text/plain": {}
     },
     "output_type": "display_data"
    },
    {
     "data": {
      "text/plain": [
       "The process end:7454\n"
      ]
     },
     "metadata": {
      "text/plain": {}
     },
     "output_type": "display_data"
    }
   ],
   "source": [
    "#!/usr/bin/env python\n",
    "\"\"\"\n",
    "Based on cairo-demo/X11/cairo-demo.c\n",
    "\"\"\"\n",
    "\n",
    "import cairo\n",
    "import gi\n",
    "gi.require_version(\"Gtk\", \"3.0\")\n",
    "from gi.repository import Gtk\n",
    "\n",
    "SIZE = 30\n",
    "\n",
    "\n",
    "def triangle(ctx):\n",
    "    ctx.move_to(SIZE, 0)\n",
    "    ctx.rel_line_to(SIZE, 2 * SIZE)\n",
    "    ctx.rel_line_to(-2 * SIZE, 0)\n",
    "    ctx.close_path()\n",
    "\n",
    "\n",
    "def square(ctx):\n",
    "    ctx.move_to(0, 0)\n",
    "    ctx.rel_line_to(2 * SIZE, 0)\n",
    "    ctx.rel_line_to(0, 2 * SIZE)\n",
    "    ctx.rel_line_to(-2 * SIZE, 0)\n",
    "    ctx.close_path()\n",
    "\n",
    "\n",
    "def bowtie(ctx):\n",
    "    ctx.move_to(0, 0)\n",
    "    ctx.rel_line_to(2 * SIZE, 2 * SIZE)\n",
    "    ctx.rel_line_to(-2 * SIZE, 0)\n",
    "    ctx.rel_line_to(2 * SIZE, -2 * SIZE)\n",
    "    ctx.close_path()\n",
    "\n",
    "\n",
    "def inf(ctx):\n",
    "    ctx.move_to(0, SIZE)\n",
    "    ctx.rel_curve_to(0, SIZE, SIZE, SIZE, 2 * SIZE, 0)\n",
    "    ctx.rel_curve_to(SIZE, -SIZE, 2 * SIZE, -SIZE, 2 * SIZE, 0)\n",
    "    ctx.rel_curve_to(0, SIZE, -SIZE, SIZE, - 2 * SIZE, 0)\n",
    "    ctx.rel_curve_to(-SIZE, -SIZE, - 2 * SIZE, -SIZE, - 2 * SIZE, 0)\n",
    "    ctx.close_path()\n",
    "\n",
    "\n",
    "def draw_shapes(ctx, x, y, fill):\n",
    "    ctx.save()\n",
    "\n",
    "    ctx.new_path()\n",
    "    ctx.translate(x + SIZE, y + SIZE)\n",
    "    bowtie(ctx)\n",
    "    if fill:\n",
    "        ctx.fill()\n",
    "    else:\n",
    "        ctx.stroke()\n",
    "\n",
    "    ctx.new_path()\n",
    "    ctx.translate(3 * SIZE, 0)\n",
    "    square(ctx)\n",
    "    if fill:\n",
    "        ctx.fill()\n",
    "    else:\n",
    "        ctx.stroke()\n",
    "\n",
    "    ctx.new_path()\n",
    "    ctx.translate(3 * SIZE, 0)\n",
    "    triangle(ctx)\n",
    "    if fill:\n",
    "        ctx.fill()\n",
    "    else:\n",
    "        ctx.stroke()\n",
    "\n",
    "    ctx.new_path()\n",
    "    ctx.translate(3 * SIZE, 0)\n",
    "    inf(ctx)\n",
    "    if fill:\n",
    "        ctx.fill()\n",
    "    else:\n",
    "        ctx.stroke()\n",
    "\n",
    "    ctx.restore()\n",
    "\n",
    "\n",
    "def fill_shapes(ctx, x, y):\n",
    "    draw_shapes(ctx, x, y, True)\n",
    "\n",
    "\n",
    "def stroke_shapes(ctx, x, y):\n",
    "    draw_shapes(ctx, x, y, False)\n",
    "\n",
    "\n",
    "def draw(da, ctx):\n",
    "    ctx.set_source_rgb(0, 0, 0)\n",
    "\n",
    "    ctx.set_line_width(SIZE / 4)\n",
    "    ctx.set_tolerance(0.1)\n",
    "\n",
    "    ctx.set_line_join(cairo.LINE_JOIN_ROUND)\n",
    "    ctx.set_dash([SIZE / 4.0, SIZE / 4.0], 0)\n",
    "    stroke_shapes(ctx, 0, 0)\n",
    "\n",
    "    ctx.set_dash([], 0)\n",
    "    stroke_shapes(ctx, 0, 3 * SIZE)\n",
    "\n",
    "    ctx.set_line_join(cairo.LINE_JOIN_BEVEL)\n",
    "    stroke_shapes(ctx, 0, 6 * SIZE)\n",
    "\n",
    "    ctx.set_line_join(cairo.LINE_JOIN_MITER)\n",
    "    stroke_shapes(ctx, 0, 9 * SIZE)\n",
    "\n",
    "    fill_shapes(ctx, 0, 12 * SIZE)\n",
    "\n",
    "    ctx.set_line_join(cairo.LINE_JOIN_BEVEL)\n",
    "    fill_shapes(ctx, 0, 15 * SIZE)\n",
    "    ctx.set_source_rgb(1, 0, 0)\n",
    "    stroke_shapes(ctx, 0, 15 * SIZE)\n",
    "\n",
    "\n",
    "def main():\n",
    "    win = Gtk.Window()\n",
    "    win.connect('destroy', lambda w: Gtk.main_quit())\n",
    "    win.set_default_size(450, 550)\n",
    "\n",
    "    drawingarea = Gtk.DrawingArea()\n",
    "    win.add(drawingarea)\n",
    "    drawingarea.connect('draw', draw)\n",
    "\n",
    "    win.show_all()\n",
    "    Gtk.main()\n",
    "\n",
    "\n",
    "if __name__ == '__main__':\n",
    "    main()"
   ]
  },
  {
   "cell_type": "code",
   "execution_count": 4,
   "id": "7fd3b6f0",
   "metadata": {},
   "outputs": [
    {
     "data": {
      "text/plain": [
       "[MyPython] Info:python -m pip list \n"
      ]
     },
     "metadata": {
      "text/plain": {}
     },
     "output_type": "display_data"
    },
    {
     "data": {
      "text/plain": [
       "Package                 Version Editable project location\r\n"
      ]
     },
     "metadata": {
      "text/plain": {}
     },
     "output_type": "display_data"
    },
    {
     "data": {
      "text/plain": [
       "----------------------- ------- ----------------------------------\r\n",
       "arrow                   1.1.0\r\n",
       "backcall                0.2.0\r\n",
       "bash_kernel             0.7.2\r\n",
       "colorama                0.4.4\r\n",
       "decorator               5.1.0\r\n",
       "distlib                 0.3.3\r\n"
      ]
     },
     "metadata": {
      "text/plain": {}
     },
     "output_type": "display_data"
    },
    {
     "data": {
      "text/plain": [
       "entrypoints             0.3\r\n",
       "importlib-metadata      4.8.2\r\n",
       "ipykernel               5.5.5\r\n",
       "ipython                 7.29.0\r\n",
       "ipython_genutils        0.2.0\r\n",
       "jedi                    0.18.1\r\n",
       "Jinja2                  3.0.3\r\n",
       "jinja2-time             0.2.0\r\n",
       "jupyter-client          7.0.6\r\n"
      ]
     },
     "metadata": {
      "text/plain": {}
     },
     "output_type": "display_data"
    },
    {
     "data": {
      "text/plain": [
       "jupyter-core            4.8.0\r\n",
       "jupyter-MyBash-kernel   0.0.1   h:/jupyter/jupyter-mybash-kernel\r\n",
       "jupyter-MyC-kernel      0.0.1   h:/jupyter/jupyter-myc-kernel\r\n",
       "jupyter-MyPython-kernel 0.0.1   h:/jupyter/jupyter-mypython-kernel\r\n"
      ]
     },
     "metadata": {
      "text/plain": {}
     },
     "output_type": "display_data"
    },
    {
     "data": {
      "text/plain": [
       "MarkupSafe              2.0.1\r\n",
       "matplotlib-inline       0.1.2\r\n",
       "more-itertools          8.10.0\r\n",
       "nest-asyncio            1.5.1\r\n",
       "parso                   0.8.2\r\n",
       "path                    13.2.0\r\n"
      ]
     },
     "metadata": {
      "text/plain": {}
     },
     "output_type": "display_data"
    },
    {
     "data": {
      "text/plain": [
       "pathlib2                2.3.5\r\n",
       "pexpect                 4.8.0\r\n",
       "pickleshare             0.7.5\r\n",
       "pip                     21.3.1\r\n",
       "prompt-toolkit          3.0.22\r\n"
      ]
     },
     "metadata": {
      "text/plain": {}
     },
     "output_type": "display_data"
    },
    {
     "data": {
      "text/plain": [
       "ptyprocess              0.7.0\r\n",
       "Pygments                2.10.0\r\n",
       "python-dateutil         2.8.2\r\n",
       "pywin32                 302\r\n"
      ]
     },
     "metadata": {
      "text/plain": {}
     },
     "output_type": "display_data"
    },
    {
     "data": {
      "text/plain": [
       "pyzmq                   19.0.2\r\n",
       "scandir                 1.10.0\r\n",
       "setuptools              59.1.1\r\n"
      ]
     },
     "metadata": {
      "text/plain": {}
     },
     "output_type": "display_data"
    },
    {
     "data": {
      "text/plain": [
       "six                     1.16.0\r\n",
       "tornado                 6.0.4\r\n",
       "traitlets               5.1.1\r\n",
       "wcwidth                 0.2.5\r\n",
       "zipp                    3.1.0\r\n"
      ]
     },
     "metadata": {
      "text/plain": {}
     },
     "output_type": "display_data"
    },
    {
     "data": {
      "text/plain": [
       "The process end:12728\n"
      ]
     },
     "metadata": {
      "text/plain": {}
     },
     "output_type": "display_data"
    },
    {
     "data": {
      "text/plain": [
       "[MyPython] Info:command python success.\n"
      ]
     },
     "metadata": {
      "text/plain": {}
     },
     "output_type": "display_data"
    }
   ],
   "source": [
    "##%onlyruncmd\n",
    "##%pycmd:-m pip list"
   ]
  },
  {
   "cell_type": "code",
   "execution_count": null,
   "id": "50208a3b",
   "metadata": {},
   "outputs": [],
   "source": []
  }
 ],
 "metadata": {
  "interpreter": {
   "hash": "916dbcbb3f70747c44a77c7bcd40155683ae19c65e1c03b4aa3499c5328201f1"
  },
  "kernelspec": {
   "display_name": "MyPython",
   "language": "Python",
   "name": "mypython"
  },
  "language_info": {
   "codemirror_mode": {
    "name": "ipython",
    "version": 3
   },
   "file_extension": ".py",
   "mimetype": "text/x-python",
   "name": "python",
   "nbconvert_exporter": "python",
   "pygments_lexer": "ipython3",
   "version": "3.9.7"
  },
  "widgets": {
   "application/vnd.jupyter.widget-state+json": {
    "state": {},
    "version_major": 2,
    "version_minor": 0
   }
  }
 },
 "nbformat": 4,
 "nbformat_minor": 5
}
