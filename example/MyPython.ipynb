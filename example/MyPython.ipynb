{
 "cells": [
  {
   "cell_type": "code",
   "execution_count": null,
   "id": "9b5e69d6-331b-4ad6-9dab-b91ae13eb41c",
   "metadata": {},
   "outputs": [],
   "source": [
    "def replacemany(our_str, to_be_replaced:str, replace_with:str):\n",
    "    while (to_be_replaced in our_str):\n",
    "        our_str = our_str.replace(to_be_replaced, replace_with)\n",
    "    return our_str\n",
    "\n",
    "def _filter_dict(argsstr):\n",
    "    if not argsstr or len(argsstr.strip())<1:\n",
    "        return None\n",
    "    env_dict={}\n",
    "    argsstr=replacemany(replacemany(replacemany(argsstr.strip(),('  '),' '),('= '),'='),' =','=')\n",
    "    envstr=str(str(argsstr.split(\" \")).split(\"=\")).replace(\" \",\"\").replace(\"\\'\",\"\").replace(\"\\\"\",\"\").replace(\"[\",\"\").replace(\"]\",\"\").replace(\"\\\\\",\"\")\n",
    "    env_list=envstr.split(\",\")\n",
    "    for i in range(0,len(env_list),2):\n",
    "        env_dict[str(env_list[i])]=env_list[i+1]\n",
    "    return env_dict\n",
    "\n",
    "envstr=' a1  =     1  b2=3     y3=6  '\n",
    "print(replacemany(replacemany(replacemany(envstr.strip(),('  '),' '),('= '),'='),' =','='))\n",
    "print(_filter_dict(envstr))\n"
   ]
  },
  {
   "cell_type": "code",
   "execution_count": null,
   "id": "4cafe78f",
   "metadata": {},
   "outputs": [],
   "source": [
    "from urllib.request import urlopen\n",
    "\n",
    "myURL = urlopen(\"\")\n",
    "print(myURL.read())"
   ]
  },
  {
   "cell_type": "code",
   "execution_count": 8,
   "id": "c7b71528",
   "metadata": {},
   "outputs": [
    {
     "name": "stdout",
     "output_type": "stream",
     "text": [
      "[MyPython] Info:file h:\\Jupyter\\ipynb\\MyPython\\src/test.py created successfully\n",
      "[MyPython] Info:The process :h:\\Jupyter\\ipynb\\MyPython\\src/test.py\n",
      "[MyPython] Info:python3 h:\\Jupyter\\ipynb\\MyPython\\src/test.py \n"
     ]
    },
    {
     "data": {
      "text/plain": [
       "------中文测试------\r\n",
       "------测试代码------\r\n",
       "\r\n"
      ]
     },
     "metadata": {
      "text/plain": {}
     },
     "output_type": "display_data"
    },
    {
     "name": "stdout",
     "output_type": "stream",
     "text": [
      "[MyPython] Info:The process end:14032\n"
     ]
    }
   ],
   "source": [
    "## \n",
    "##%overwritefile\n",
    "##%file:src/test.py\n",
    "## %cleartest\n",
    "print(\"------中文测试------\")\n",
    "##test_begin\n",
    "print(\"------测试代码------\\n\")\n",
    "##test_end"
   ]
  },
  {
   "cell_type": "code",
   "execution_count": null,
   "id": "97b9bbe3",
   "metadata": {},
   "outputs": [],
   "source": [
    "import re\n",
    " \n",
    "line = \"//%Cat:s are smarter than dogs\"\n",
    " \n",
    "matchObj = re.match( r'(.*) are (.*?) .*', line)\n",
    "matchObj1= re.search( r':(.*)',line)\n",
    "if matchObj1:\n",
    "    print (\"matchObj1.group() : \"+ matchObj1.group(0))\n",
    "else:\n",
    "   print (\"No match!!\")\n",
    "\n",
    "value=\"cmd dd -g -o asdf\"\n",
    "\n",
    "args=[]\n",
    "for argument in re.findall(r'(?:[^\\s,\"]|\"(?:\\\\.|[^\"])*\")+', value):\n",
    "    args += [argument.strip('\"')]\n",
    "print(args.pop(0) +\"\\n\")\n",
    "print(args[0] +\"\\n\")\n",
    "\n",
    "#for argument in re.findall(r'(?:[^\\s,\"]|\"(?:\\\\.|[^\"])*\")+', value):\n",
    "    #print(argument)"
   ]
  }
 ],
 "metadata": {
  "kernelspec": {
   "display_name": "MyPython",
   "language": "Python",
   "name": "mypython"
  },
  "language_info": {
   "codemirror_mode": {
    "name": "ipython",
    "version": 3
   },
   "file_extension": ".py",
   "mimetype": "text/x-python",
   "name": "python",
   "nbconvert_exporter": "python",
   "pygments_lexer": "ipython3",
   "version": "3.9.6"
  },
  "widgets": {
   "application/vnd.jupyter.widget-state+json": {
    "state": {},
    "version_major": 2,
    "version_minor": 0
   }
  }
 },
 "nbformat": 4,
 "nbformat_minor": 5
}
