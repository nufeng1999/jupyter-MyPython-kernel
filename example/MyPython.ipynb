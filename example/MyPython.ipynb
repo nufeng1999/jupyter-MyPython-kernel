{
 "cells": [
  {
   "cell_type": "code",
   "execution_count": null,
   "id": "9b5e69d6-331b-4ad6-9dab-b91ae13eb41c",
   "metadata": {},
   "outputs": [],
   "source": [
    "def replacemany(our_str, to_be_replaced:str, replace_with:str):\n",
    "    while (to_be_replaced in our_str):\n",
    "        our_str = our_str.replace(to_be_replaced, replace_with)\n",
    "    return our_str\n",
    "\n",
    "def _filter_dict(argsstr):\n",
    "    if not argsstr or len(argsstr.strip())<1:\n",
    "        return None\n",
    "    env_dict={}\n",
    "    argsstr=replacemany(replacemany(replacemany(argsstr.strip(),('  '),' '),('= '),'='),' =','=')\n",
    "    envstr=str(str(argsstr.split(\" \")).split(\"=\")).replace(\" \",\"\").replace(\"\\'\",\"\").replace(\"\\\"\",\"\").replace(\"[\",\"\").replace(\"]\",\"\").replace(\"\\\\\",\"\")\n",
    "    env_list=envstr.split(\",\")\n",
    "    for i in range(0,len(env_list),2):\n",
    "        env_dict[str(env_list[i])]=env_list[i+1]\n",
    "    return env_dict\n",
    "\n",
    "envstr=' a1  =     1  b2=3     y3=6  '\n",
    "print(replacemany(replacemany(replacemany(envstr.strip(),('  '),' '),('= '),'='),' =','='))\n",
    "print(_filter_dict(envstr))\n"
   ]
  },
  {
   "cell_type": "code",
   "execution_count": null,
   "id": "4cafe78f",
   "metadata": {},
   "outputs": [],
   "source": [
    "from urllib.request import urlopen\n",
    "\n",
    "myURL = urlopen(\"\")\n",
    "print(myURL.read())"
   ]
  },
  {
   "cell_type": "code",
   "execution_count": null,
   "id": "c7b71528",
   "metadata": {},
   "outputs": [],
   "source": [
    "## %runinterm\n",
    "##%term:cmd /c start \n",
    "##%overwritefile\n",
    "##%file:src/test.py\n",
    "##%stdin<-:myfifo\n",
    "##%cleartest\n",
    "##%log:0\n",
    "import sys\n",
    "print('Plase input your name: ')\n",
    "name = sys.stdin.readline()\n",
    "print('Hello {0}'.format(name))\n",
    "\n",
    "##test_begin\n",
    "print(\"------中文测试------\")\n",
    "print(\"------测试代码------\\n\")\n",
    "##test_end"
   ]
  },
  {
   "cell_type": "code",
   "execution_count": null,
   "id": "e58a3273",
   "metadata": {},
   "outputs": [],
   "source": [
    "import mmap\n",
    "import contextlib\n",
    "import time\n",
    "import atexit\n",
    "import platform\n",
    "import tempfile\n",
    "import os\n",
    "from queue import Queue\n",
    "\n",
    "fcntl = None\n",
    "msvcrt = None\n",
    "bLinux = True\n",
    "if platform.system() != 'Windows':\n",
    "    fcntl = __import__(\"fcntl\")\n",
    "    bLinux = True\n",
    "else:\n",
    "    msvcrt = __import__('msvcrt')\n",
    "    bLinux = False\n",
    "##\n",
    "##\n",
    "##\n",
    "class CFileLock:\n",
    "    def __init__(self, filename):\n",
    "        # self.kobj=kobj\n",
    "        # self.tmpdir = tempfile.TemporaryDirectory()\n",
    "        self.tmpdir =tempfile.gettempdir()\n",
    "        fname=filename+ '.lock'\n",
    "        fname = os.path.join(self.tmpdir, fname)\n",
    "        self.filename = fname\n",
    "        self.file = None\n",
    "    def __del__(self):\n",
    "        pass\n",
    "        # if os.path.exists(self.filename):\n",
    "            # os.remove(self.filename)\n",
    "        # self.tmpdir.cleanup()\n",
    "    def lock(self):\n",
    "        if bLinux is True:\n",
    "            self.file = open(self.filename, 'wb')\n",
    "            try:\n",
    "                fcntl.flock(self.file, fcntl.LOCK_EX | fcntl.LOCK_NB)\n",
    "            except:\n",
    "                return False\n",
    "        else:\n",
    "            self.file = open(self.filename, 'wb')\n",
    "            try:\n",
    "                msvcrt.locking(self.file.fileno(), msvcrt.LK_LOCK, 1)\n",
    "            except Exception as e:\n",
    "                return False\n",
    "        return True\n",
    " \n",
    "    def unlock(self):\n",
    "        try:\n",
    "            if bLinux is True:\n",
    "                fcntl.flock(self.file, fcntl.LOCK_UN)\n",
    "                self.file.close()\n",
    "            else:\n",
    "                self.file.seek(0)\n",
    "                msvcrt.locking(self.file.fileno(), msvcrt.LK_UNLCK, 1)\n",
    "        except Exception as e:\n",
    "            pass\n",
    "def read_all_from_queue(queue):\n",
    "    res = b''\n",
    "    size = queue.qsize()\n",
    "    while size != 0:\n",
    "        res += queue.get_nowait()\n",
    "        size -= 1\n",
    "    return res\n",
    "i=0\n",
    "flock=CFileLock('myfifo')\n",
    "_queue = Queue()\n",
    "cmdstart_time = time.time()\n",
    "to=180\n",
    "while i<75:\n",
    "    s=b''\n",
    "    flag=b''\n",
    "    with contextlib.closing(mmap.mmap(-1, 4096, tagname='myfifo', access=mmap.ACCESS_DEFAULT)) as m:\n",
    "        \n",
    "        if flock.lock():\n",
    "            m.seek(0)\n",
    "            flag=m.read(1)\n",
    "            ## 检查flag是否为1，1为可读\n",
    "            if flag!=b'\\x01':\n",
    "                # print(\"wait...\")\n",
    "                time.sleep(1/1000)\n",
    "                run_time = time.time() - cmdstart_time\n",
    "                if run_time > to:break\n",
    "                continue\n",
    "            m.seek(0)\n",
    "            m.write(b'\\x02')\n",
    "            m.flush()\n",
    "            m.seek(1)\n",
    "            s = m.read()\n",
    "            m.seek(0)\n",
    "            m.write(b'\\x00'*4096)\n",
    "            m.flush()\n",
    "            i+=1\n",
    "            time.sleep(1/1000)\n",
    "            # flock.unlock()\n",
    "            s1=s.decode().strip(b'\\x00'.decode())\n",
    "            if len(s1)>0:\n",
    "                print(s1.strip()+str(i))\n",
    "            flock.unlock()\n",
    "            time.sleep(1/1000)\n",
    "#   _contents = read_all_from_queue(_queue)\n",
    "#   s1=_contents.decode('UTF-8', errors='ignore').strip(b'\\x00'.decode())\n",
    "#   if len(s1)>0:\n",
    "#     print(s1.strip())\n"
   ]
  },
  {
   "cell_type": "code",
   "execution_count": 8,
   "id": "97b9bbe3",
   "metadata": {},
   "outputs": [
    {
     "name": "stdout",
     "output_type": "stream",
     "text": [
      "[MyPythonKernel125536] Info:The process :h:\\Jupyter\\ipynb\\MyPython\\tmp2g9zpjum.py\n",
      "[MyPythonKernel125536] Info:python3 h:\\Jupyter\\ipynb\\MyPython\\tmp2g9zpjum.py \n"
     ]
    },
    {
     "data": {
      "text/plain": [
       "matchObj1.group() : :s are smarter than dogs\r\n",
       "cmd\r\n",
       "\r\n",
       "dd\r\n",
       "\r\n"
      ]
     },
     "metadata": {
      "text/plain": {}
     },
     "output_type": "display_data"
    },
    {
     "name": "stdout",
     "output_type": "stream",
     "text": [
      "[MyPythonKernel125536] Info:The process end:12616\n"
     ]
    }
   ],
   "source": [
    "import re\n",
    " \n",
    "line = \"//%Cat:s are smarter than dogs\"\n",
    " \n",
    "matchObj = re.match( r'(.*) are (.*?) .*', line)\n",
    "matchObj1= re.search( r':(.*)',line)\n",
    "if matchObj1:\n",
    "    print (\"matchObj1.group() : \"+ matchObj1.group(0))\n",
    "else:\n",
    "   print (\"No match!!\")\n",
    "\n",
    "value=\"cmd dd -g -o asdf\"\n",
    "\n",
    "args=[]\n",
    "for argument in re.findall(r'(?:[^\\s,\"]|\"(?:\\\\.|[^\"])*\")+', value):\n",
    "    args += [argument.strip('\"')]\n",
    "print(args.pop(0) +\"\\n\")\n",
    "print(args[0] +\"\\n\")\n",
    "\n",
    "#for argument in re.findall(r'(?:[^\\s,\"]|\"(?:\\\\.|[^\"])*\")+', value):\n",
    "    #print(argument)"
   ]
  },
  {
   "cell_type": "code",
   "execution_count": null,
   "id": "3ebd02bd",
   "metadata": {},
   "outputs": [],
   "source": [
    "##%overwritefile\n",
    "##%file:src/test1.py\n",
    "import multiprocessing\n",
    "import os\n",
    "# 读数据进程执行的代码:\n",
    "def _read(q):\n",
    "    print('Process(%s) is reading...' % os.getpid())\n",
    "    while True:\n",
    "        url = q.get(True)\n",
    "        print('Get %s from queue.' % url)\n",
    "def main():\n",
    "    # 1. 创建一个队列 (先进先出)\n",
    "    q = multiprocessing.Queue(10) # 最多放10个数据。 如果不指定长度,默认最大(和硬件相关)\n",
    "    # 2. 创建多个进程，将队列的引用当做实参进行传递\n",
    "    p1 = multiprocessing.Process(target=_read, args=(q,))\n",
    "    p1.start()\n",
    "\n",
    "# main1() \n",
    "if __name__ == \"__main__\":\n",
    "    # multiprocessing.freeze_support()\n",
    "    main() "
   ]
  },
  {
   "cell_type": "code",
   "execution_count": null,
   "id": "fd313e8c",
   "metadata": {},
   "outputs": [],
   "source": [
    "import time\n",
    "import asyncio\n",
    "\n",
    "now = lambda : time.time()\n",
    "\n",
    "async def do_some_work(x):\n",
    "    print('Waiting: ', x)\n",
    "    return 'Done after {}s'.format(x)\n",
    "\n",
    "def callback(future):\n",
    "    print('Callback: ', future.result())\n",
    "\n",
    "start = now()\n",
    "\n",
    "coroutine = do_some_work(2)\n",
    "print(\"this is test\")\n",
    "loop = asyncio.get_event_loop()\n",
    "task = loop.create_task(coroutine)\n",
    "#task = asyncio.ensure_future(coroutine)\t# 貌似和上面用loop创建任务效果一样\n",
    "task.add_done_callback(callback)\n",
    "loop.run_until_complete(task)\n"
   ]
  },
  {
   "cell_type": "code",
   "execution_count": null,
   "id": "e3d2e766",
   "metadata": {},
   "outputs": [],
   "source": [
    "\n",
    "import zerorpc\n",
    "\n",
    "class HelloRPC(object):\n",
    "    def hello(self, name):\n",
    "        return \"Hello, %s\" % name\n",
    "\n",
    "s = zerorpc.Server(HelloRPC())\n",
    "s.bind(\"tcp://0.0.0.0:4249\")\n",
    "s.run()"
   ]
  },
  {
   "cell_type": "code",
   "execution_count": null,
   "id": "30468197",
   "metadata": {},
   "outputs": [],
   "source": [
    "##%srvmode: tcp://0.0.0.0:4255\n",
    "##%rpcsrvfollowcode\n",
    "import sys\n",
    "print('Plase input your name: ')\n",
    "name = sys.stdin.readline()\n",
    "print('Hello {0}'.format(name))"
   ]
  },
  {
   "cell_type": "code",
   "execution_count": null,
   "id": "3d7dc065",
   "metadata": {},
   "outputs": [],
   "source": [
    "import zerorpc\n",
    "\n",
    "class HelloRPC(object):\n",
    "    def hello(self, name):\n",
    "        return \"Hello, %s\" % name\n",
    "\n",
    "s = zerorpc.Server(HelloRPC())\n",
    "s.bind(\"ipc:///tmp/feeds/0\")\n",
    "s.run()"
   ]
  },
  {
   "cell_type": "code",
   "execution_count": null,
   "id": "2bc38b00",
   "metadata": {},
   "outputs": [],
   "source": [
    "##%assfile:MyPython2.ipynb 8\n",
    "##%assfile:..\\..\\Myjupyter-kernel\\Mythink.ipynb 4\n",
    "print(\"this is test code.\")"
   ]
  },
  {
   "cell_type": "code",
   "execution_count": 7,
   "id": "9e90ab20",
   "metadata": {},
   "outputs": [
    {
     "name": "stdout",
     "output_type": "stream",
     "text": [
      "[MyPythonKernel125536] Info:The process :h:\\Jupyter\\ipynb\\MyPython\\tmp4oj6cg90.py\n",
      "[MyPythonKernel125536] Info:python3 h:\\Jupyter\\ipynb\\MyPython\\tmp4oj6cg90.py \n"
     ]
    },
    {
     "data": {
      "text/plain": [
       "this is test code.\r\n"
      ]
     },
     "metadata": {
      "text/plain": {}
     },
     "output_type": "display_data"
    },
    {
     "name": "stdout",
     "output_type": "stream",
     "text": [
      "[MyPythonKernel125536] Info:The process end:10640\n"
     ]
    }
   ],
   "source": [
    "##%log:1\n",
    "print(\"this is test code.\")"
   ]
  },
  {
   "cell_type": "code",
   "execution_count": null,
   "id": "2c425826",
   "metadata": {},
   "outputs": [],
   "source": []
  },
  {
   "cell_type": "code",
   "execution_count": null,
   "id": "18c979de",
   "metadata": {},
   "outputs": [],
   "source": []
  }
 ],
 "metadata": {
  "interpreter": {
   "hash": "3894e598c570733791aa52d65eb5fdf19ed19e2d0714624e631d3fa8a97007f7"
  },
  "kernelspec": {
   "display_name": "MyPython",
   "language": "Python",
   "name": "mypython"
  },
  "language_info": {
   "codemirror_mode": {
    "name": "ipython",
    "version": 3
   },
   "file_extension": ".py",
   "mimetype": "text/x-python",
   "name": "python",
   "nbconvert_exporter": "python",
   "pygments_lexer": "ipython3",
   "version": "3.10.4"
  },
  "widgets": {
   "application/vnd.jupyter.widget-state+json": {
    "state": {},
    "version_major": 2,
    "version_minor": 0
   }
  }
 },
 "nbformat": 4,
 "nbformat_minor": 5
}
