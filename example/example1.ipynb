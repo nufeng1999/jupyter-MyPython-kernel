{
 "cells": [
  {
   "cell_type": "code",
   "execution_count": 4,
   "metadata": {},
   "outputs": [
    {
     "data": {
      "text/plain": [
       "[MyPython] Info:file /root/Jupyter/jupyter-MyPython-kernel/example/test/test1.py created successfully\n"
      ]
     },
     "metadata": {
      "text/plain": {}
     },
     "output_type": "display_data"
    },
    {
     "data": {
      "text/plain": [
       "[MyPython] Info:The process :/root/Jupyter/jupyter-MyPython-kernel/example/test/test1.py\n"
      ]
     },
     "metadata": {
      "text/plain": {}
     },
     "output_type": "display_data"
    },
    {
     "name": "stdout",
     "output_type": "stream",
     "text": [
      "The process PID:9166\n"
     ]
    },
    {
     "data": {
      "text/plain": [
       "---------\n",
       "\n",
       "the test in b\n",
       "the test in a\n"
      ]
     },
     "metadata": {
      "text/plain": {}
     },
     "output_type": "display_data"
    },
    {
     "name": "stdout",
     "output_type": "stream",
     "text": [
      "The process end:9166\n"
     ]
    }
   ],
   "source": [
    "##%overwritefile\n",
    "##%file:test/test1.py\n",
    "##//%noruncode\n",
    "##%showpid\n",
    "##//%kcmd:list\n",
    "print(\"---------\\n\")\n",
    "\n",
    "class A():\n",
    "    def __init__(self, *args, **kwargs):\n",
    "        # super(CKernel, self).__init__(*args, **kwargs)\n",
    "        self.__normal_ret='the test in a'\n",
    "    def test2(self):\n",
    "        return self.__normal_ret\n",
    "    def test3(self):\n",
    "        return self.test2()\n",
    "        \n",
    "    def test1(self):\n",
    "        print(self.__normal_ret)\n",
    "        print(\"the test in a\")\n",
    "    def calltest(self):\n",
    "        self.test()\n",
    "class B(A):\n",
    "    def __init__(self, *args, **kwargs):\n",
    "        super(B, self).__init__(*args, **kwargs)\n",
    "        self.__normal_ret='the test in b'\n",
    "\n",
    "    def test(self):\n",
    "        print(\"the test in b\")\n",
    "        print(self.test3())\n",
    "b=B()\n",
    "b.test()\n",
    "# b.calltest()"
   ]
  },
  {
   "cell_type": "code",
   "execution_count": 5,
   "id": "97700599",
   "metadata": {},
   "outputs": [
    {
     "data": {
      "text/plain": [
       "[MyPython] Info:The process :/root/Jupyter/jupyter-MyPython-kernel/example/tmpl5gb8xqz.py\n"
      ]
     },
     "metadata": {
      "text/plain": {}
     },
     "output_type": "display_data"
    },
    {
     "data": {
      "text/plain": [
       "this define's test by 000\n",
       "\n",
       "this define's test by ll3 ---test\n",
       "\n"
      ]
     },
     "metadata": {
      "text/plain": {}
     },
     "output_type": "display_data"
    },
    {
     "name": "stdout",
     "output_type": "stream",
     "text": [
      "The process end:9175\n"
     ]
    }
   ],
   "source": [
    "##%define:M1 line2='this define\\'s test by {{name}}'\n",
    "\n",
    "##$M1 name=000  uu=test\n",
    "print(line2+\"\\n\")\n",
    "##jj2_begin: name=ll3   uu=test\n",
    "line3='this define\\'s test by {{name}} ---{{uu}}'\n",
    "print(line3+\"\\n\")\n",
    "##jj2_end\n"
   ]
  },
  {
   "cell_type": "code",
   "execution_count": 4,
   "id": "5130014f",
   "metadata": {},
   "outputs": [
    {
     "data": {
      "text/plain": [
       "[MyPython] Info:file /root/Jupyter/jupyter-MyPython-kernel/example/test.sh created successfully\n"
      ]
     },
     "metadata": {
      "text/plain": {}
     },
     "output_type": "display_data"
    },
    {
     "data": {
      "text/plain": [
       "[MyPython] Info:The process :/root/Jupyter/jupyter-MyPython-kernel/example/test.sh\n"
      ]
     },
     "metadata": {
      "text/plain": {}
     },
     "output_type": "display_data"
    },
    {
     "data": {
      "text/plain": [
       "脚本文件测试\n"
      ]
     },
     "metadata": {
      "text/plain": {}
     },
     "output_type": "display_data"
    },
    {
     "data": {
      "text/plain": [
       "example1.ipynb\n",
       "test\n",
       "test.sh\n",
       "test.sh.new.py\n"
      ]
     },
     "metadata": {
      "text/plain": {}
     },
     "output_type": "display_data"
    },
    {
     "data": {
      "text/plain": [
       "[MyPython] Error:name 'p' is not defined"
      ]
     },
     "metadata": {
      "text/plain": {}
     },
     "output_type": "display_data"
    }
   ],
   "source": [
    "##//%outputtype:text/html\n",
    "##%runprg:bash \n",
    "##%runprgargs:test.sh\n",
    "##%overwritefile\n",
    "##%file:test.sh\n",
    "echo \"脚本文件测试\"\n",
    "ls\n",
    "\n"
   ]
  },
  {
   "cell_type": "code",
   "execution_count": null,
   "id": "93f5ab6c",
   "metadata": {},
   "outputs": [],
   "source": []
  }
 ],
 "metadata": {
  "interpreter": {
   "hash": "916dbcbb3f70747c44a77c7bcd40155683ae19c65e1c03b4aa3499c5328201f1"
  },
  "kernelspec": {
   "display_name": "MyPython",
   "language": "Python",
   "name": "mypython"
  },
  "language_info": {
   "codemirror_mode": {
    "name": "ipython",
    "version": 3
   },
   "file_extension": ".py",
   "mimetype": "text/x-python",
   "name": "python",
   "nbconvert_exporter": "python",
   "pygments_lexer": "ipython3",
   "version": "3.9.7"
  },
  "widgets": {
   "application/vnd.jupyter.widget-state+json": {
    "state": {},
    "version_major": 2,
    "version_minor": 0
   }
  }
 },
 "nbformat": 4,
 "nbformat_minor": 5
}
