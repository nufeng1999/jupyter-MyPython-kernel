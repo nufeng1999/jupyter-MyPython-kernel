{
 "cells": [
  {
   "cell_type": "code",
   "execution_count": null,
   "metadata": {},
   "outputs": [],
   "source": [
    "##%overwritefile\n",
    "##%saveto:test/test1.py\n",
    "##//%noruncode\n",
    "##%showpid\n",
    "##//%kcmd:list\n",
    "print(\"---------\\n\")\n",
    "\n",
    "class A():\n",
    "    def __init__(self, *args, **kwargs):\n",
    "        # super(CKernel, self).__init__(*args, **kwargs)\n",
    "        self.__normal_ret='the test in a'\n",
    "    def test2(self):\n",
    "        return self.__normal_ret\n",
    "    def test3(self):\n",
    "        return self.test2()\n",
    "        \n",
    "    def test1(self):\n",
    "        print(self.__normal_ret)\n",
    "        print(\"the test in a\")\n",
    "    def calltest(self):\n",
    "        self.test()\n",
    "class B(A):\n",
    "    def __init__(self, *args, **kwargs):\n",
    "        super(B, self).__init__(*args, **kwargs)\n",
    "        self.__normal_ret='the test in b'\n",
    "\n",
    "    def test(self):\n",
    "        print(\"the test in b\")\n",
    "        print(self.test3())\n",
    "b=B()\n",
    "b.test()\n",
    "# b.calltest()"
   ]
  },
  {
   "cell_type": "code",
   "execution_count": 5,
   "id": "97700599",
   "metadata": {},
   "outputs": [
    {
     "data": {
      "text/plain": [
       "[MyPython] Info:The process :/root/Jupyter/jupyter-MyPython-kernel/example/tmpv7ycdhiq.py\n"
      ]
     },
     "metadata": {
      "text/plain": {}
     },
     "output_type": "display_data"
    },
    {
     "data": {
      "text/plain": [
       " 0\n",
       "\n",
       " 1\n",
       "\n"
      ]
     },
     "metadata": {
      "text/plain": {}
     },
     "output_type": "display_data"
    },
    {
     "name": "stdout",
     "output_type": "stream",
     "text": [
      "The process end:14777\n"
     ]
    }
   ],
   "source": [
    "import re\n",
    "line=\" // 这是测试\"\n",
    "tmpCode = re.sub(r\"//.*\", \"\", line)\n",
    "print(tmpCode+\"0\\n\")\n",
    "line='''\n",
    "/* 这是测试 */\n",
    "/*\n",
    "这是测试\n",
    "*/\n",
    "'''\n",
    "tmpCode = re.sub(r\"/\\*.*?\\*/\", \"\", tmpCode, flags=re.M|re.S)\n",
    "print(tmpCode+\"1\\n\")"
   ]
  },
  {
   "cell_type": "code",
   "execution_count": 11,
   "id": "5130014f",
   "metadata": {},
   "outputs": [
    {
     "data": {
      "text/plain": [
       "[MyPython] Info:file /root/Jupyter/jupyter-MyPython-kernel/example/test.sh created successfully\n"
      ]
     },
     "metadata": {
      "text/plain": {}
     },
     "output_type": "display_data"
    },
    {
     "data": {
      "text/plain": [
       "[MyPython] Info:The process :/root/Jupyter/jupyter-MyPython-kernel/example/test.sh\n"
      ]
     },
     "metadata": {
      "text/plain": {}
     },
     "output_type": "display_data"
    },
    {
     "data": {
      "text/plain": [
       "脚本文件测试\n"
      ]
     },
     "metadata": {
      "text/plain": {}
     },
     "output_type": "display_data"
    },
    {
     "data": {
      "text/plain": [
       "example1.ipynb\n",
       "test\n",
       "test.sh\n",
       "test.sh.new.py\n"
      ]
     },
     "metadata": {
      "text/plain": {}
     },
     "output_type": "display_data"
    },
    {
     "name": "stdout",
     "output_type": "stream",
     "text": [
      "The process end:16790\n"
     ]
    }
   ],
   "source": [
    "##//%outputtype:text/html\n",
    "##%runprg:bash \n",
    "##%runprgargs:test.sh\n",
    "##%overwritefile\n",
    "##%file:test.sh\n",
    "echo \"脚本文件测试\"\n",
    "ls\n",
    "\n"
   ]
  },
  {
   "cell_type": "code",
   "execution_count": null,
   "id": "93f5ab6c",
   "metadata": {},
   "outputs": [],
   "source": []
  }
 ],
 "metadata": {
  "interpreter": {
   "hash": "916dbcbb3f70747c44a77c7bcd40155683ae19c65e1c03b4aa3499c5328201f1"
  },
  "kernelspec": {
   "display_name": "MyPython",
   "language": "Python",
   "name": "mypython"
  },
  "widgets": {
   "application/vnd.jupyter.widget-state+json": {
    "state": {},
    "version_major": 2,
    "version_minor": 0
   }
  }
 },
 "nbformat": 4,
 "nbformat_minor": 5
}
