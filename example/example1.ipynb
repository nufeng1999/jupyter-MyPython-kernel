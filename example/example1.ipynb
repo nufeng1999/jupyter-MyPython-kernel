{
 "cells": [
  {
   "cell_type": "code",
   "execution_count": 4,
   "metadata": {},
   "outputs": [
    {
     "name": "stdout",
     "output_type": "stream",
     "text": [
      "[MyPythonkernel] Info:file /root/Jupyter/jupyter-MyPython-kernel/example/test/test1.py created successfully\n",
      "The process :/root/Jupyter/jupyter-MyPython-kernel/example/test/test1.py\n",
      "The process PID:28072\n"
     ]
    },
    {
     "data": {
      "text/plain": [
       "---------\n",
       "\n"
      ]
     },
     "metadata": {
      "text/plain": {}
     },
     "output_type": "display_data"
    },
    {
     "name": "stdout",
     "output_type": "stream",
     "text": [
      "The process end:28072\n"
     ]
    }
   ],
   "source": [
    "##%overwritefile\n",
    "##%file:test/test1.py\n",
    "##//%noruncode\n",
    "##%showpid\n",
    "##//%kcmd:list\n",
    "print(\"---------\\n\")"
   ]
  },
  {
   "cell_type": "code",
   "execution_count": null,
   "id": "97700599",
   "metadata": {},
   "outputs": [],
   "source": []
  }
 ],
 "metadata": {
  "interpreter": {
   "hash": "916dbcbb3f70747c44a77c7bcd40155683ae19c65e1c03b4aa3499c5328201f1"
  },
  "kernelspec": {
   "display_name": "MyPython",
   "language": "Python",
   "name": "mypython"
  },
  "language_info": {
   "codemirror_mode": {
    "name": "ipython",
    "version": 3
   },
   "file_extension": ".py",
   "mimetype": "text/x-python",
   "name": "python",
   "nbconvert_exporter": "python",
   "pygments_lexer": "ipython3",
   "version": "3.9.7"
  },
  "widgets": {
   "application/vnd.jupyter.widget-state+json": {
    "state": {},
    "version_major": 2,
    "version_minor": 0
   }
  }
 },
 "nbformat": 4,
 "nbformat_minor": 5
}
